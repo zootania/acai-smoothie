{
 "cells": [
  {
   "cell_type": "code",
   "execution_count": null,
   "id": "e765bbcd-14f9-4b4f-91d2-e85d1a16878a",
   "metadata": {},
   "outputs": [],
   "source": [
    "%matplotlib inline\n"
   ]
  },
  {
   "cell_type": "code",
   "execution_count": null,
   "id": "28f465d7",
   "metadata": {},
   "outputs": [],
   "source": [
    "import concurrent\n",
    "import concurrent.futures\n",
    "import pickle\n",
    "import re\n",
    "import statistics\n",
    "import warnings\n",
    "\n",
    "import matplotlib.cm as cm\n",
    "import matplotlib.pyplot as plt\n",
    "import numpy as np\n",
    "import pandas as pd\n",
    "import regex\n",
    "import tqdm\n",
    "from itables import init_notebook_mode, show\n",
    "from keras import models\n",
    "from keras.layers import Dense, Input, Reshape\n",
    "from keras.models import Model\n",
    "from sklearn.cluster import (AffinityPropagation, AgglomerativeClustering,\n",
    "                             KMeans)\n",
    "from sklearn.feature_extraction.text import CountVectorizer, TfidfTransformer\n",
    "from sklearn.metrics import (adjusted_mutual_info_score, adjusted_rand_score,\n",
    "                             auc, classification_report, davies_bouldin_score,\n",
    "                             roc_auc_score, roc_curve, silhouette_score,\n",
    "                             v_measure_score)\n",
    "from sklearn.model_selection import GridSearchCV\n",
    "from sklearn.preprocessing import (LabelEncoder, QuantileTransformer,\n",
    "                                   label_binarize, normalize)\n",
    "\n",
    "from featgenerator.config import Config\n",
    "from featgenerator.exif_feat import ExifFeatures\n",
    "from featgenerator.featurizer import Featurizer\n",
    "from featgenerator.floss_general_feat import FlossFeatures\n",
    "from featgenerator.floss_regex import FlossRegexFeatures\n",
    "from featgenerator.lief_features import (LiefFeatures,\n",
    "                                         get_features_from_function_lists)\n",
    "from featgenerator.malcat import MalcatFeatures\n",
    "from featgenerator.util import ClusteringMetrics, MinHashLSHForest\n",
    "from featgenerator import feature_transformation\n"
   ]
  },
  {
   "cell_type": "code",
   "execution_count": null,
   "id": "7fdb5351-a8aa-43ca-83be-ebd41e9b05ef",
   "metadata": {},
   "outputs": [],
   "source": [
    "from featgenerator import doc_features\n",
    "from featgenerator.util import ClusteringMetrics"
   ]
  },
  {
   "cell_type": "code",
   "execution_count": null,
   "id": "0aa14af5-538a-47a8-84b9-5ac39b356ba7",
   "metadata": {},
   "outputs": [],
   "source": [
    "from itables import init_notebook_mode\n",
    "\n",
    "init_notebook_mode(all_interactive=True)"
   ]
  },
  {
   "cell_type": "code",
   "execution_count": null,
   "id": "cc2d97df-219e-44b0-8ca8-8b7e1de0f44f",
   "metadata": {},
   "outputs": [],
   "source": [
    "from importlib import reload\n",
    "from featgenerator import util\n",
    "\n",
    "util = reload(util)\n",
    "\n"
   ]
  },
  {
   "cell_type": "code",
   "execution_count": null,
   "id": "fed45d36",
   "metadata": {},
   "outputs": [],
   "source": [
    "conf = Config()\n",
    "adversary_dataset = pd.read_csv(conf.get_adversary_mapping())\n",
    "adversary_dataset['hash'] = adversary_dataset['sha256'].copy()"
   ]
  },
  {
   "cell_type": "code",
   "execution_count": null,
   "id": "816d2773-a680-49d9-83de-a6852cfafe6c",
   "metadata": {},
   "outputs": [],
   "source": [
    "\n",
    "joined_df, joined_data_dict = feature_transformation.get_combined_features(\n",
    "    floss_features=False,\n",
    "    exif_features=True,\n",
    "    malcat_features=True,\n",
    "    lief_features=False,\n",
    "    flossregex_features=True,\n",
    "    exported_functions_features=False,\n",
    "    configuration_version=False,\n",
    "    document_features=True\n",
    ")"
   ]
  },
  {
   "cell_type": "code",
   "execution_count": null,
   "id": "b050adb1-6bad-45d0-a2e6-def10f486d68",
   "metadata": {},
   "outputs": [],
   "source": [
    "embedding_df = util.Util().process_raw_strings_dataset(conf.get_root_dir(), conf.get_floss_file(), joined_df['hash'])"
   ]
  },
  {
   "cell_type": "code",
   "execution_count": null,
   "id": "9f619c3b",
   "metadata": {},
   "outputs": [],
   "source": [
    "embedding_df['hash'] = joined_df['hash'].astype(str).copy()"
   ]
  },
  {
   "cell_type": "code",
   "execution_count": null,
   "id": "a8fdb758",
   "metadata": {},
   "outputs": [],
   "source": [
    "joined_inner = joined_df.merge(embedding_df,how=\"inner\", on=[\"hash\"])"
   ]
  },
  {
   "cell_type": "code",
   "execution_count": null,
   "id": "a52ceb54-0cbd-47df-80ae-7846d660930d",
   "metadata": {},
   "outputs": [],
   "source": [
    "autoencoder, X_encoded, combined_features, all_features  = feature_transformation.prepare_and_encode_features(joined_df, embedding_df, adversary_dataset, target_column=\"Campaign_Tag\", include_embedding=False, num_epochs=20)"
   ]
  },
  {
   "cell_type": "code",
   "execution_count": null,
   "id": "795e982c-a3ce-496e-9805-341ae54833ab",
   "metadata": {},
   "outputs": [],
   "source": [
    "n_clusters = list(np.arange(5, 60, 10))"
   ]
  },
  {
   "cell_type": "code",
   "execution_count": null,
   "id": "3889ac0c-5895-4987-bf4a-6bce4ccb37f7",
   "metadata": {},
   "outputs": [],
   "source": [
    "modelling = util.Modelling()\n",
    "all_params, best_param, best_truth_matrix = modelling.find_best_agglo(combined_features, n_clusters,all_features[['hash', 'Campaign_Tag']], 'Campaign_Tag')"
   ]
  },
  {
   "cell_type": "code",
   "execution_count": null,
   "id": "5efafaa3-2fb0-49f7-8937-1cb2fa2fed07",
   "metadata": {},
   "outputs": [],
   "source": [
    "show(pd.DataFrame(all_params))"
   ]
  },
  {
   "cell_type": "code",
   "execution_count": null,
   "id": "645f1ad1-ce67-40a9-95df-507d67ff3a02",
   "metadata": {},
   "outputs": [],
   "source": [
    "agglomerative = AgglomerativeClustering(n_clusters=25, metric=\"euclidean\", linkage=\"ward\")\n",
    "y_pred = agglomerative.fit_predict(combined_features)"
   ]
  },
  {
   "cell_type": "code",
   "execution_count": null,
   "id": "87576b49-cdf0-43ca-885b-7f3e9064799a",
   "metadata": {},
   "outputs": [],
   "source": [
    "merg_res = all_features.copy()\n",
    "merg_res['labels'] = y_pred\n",
    "\n",
    "merged_adversary_experiment_final = all_features.copy()\n",
    "merged_adversary_experiment_final['labels'] = y_pred\n",
    "clustering_metrics = util.ClusteringMetrics()\n",
    "truth_matrix, precision, recall = clustering_metrics.metrics_using_labels(merged_adversary_experiment_final, evaluation_column = 'Campaign_Tag')\n",
    "truth_matrix.fillna('0', inplace=True)\n",
    "evaluation_column = 'Campaign_Tag'"
   ]
  },
  {
   "cell_type": "code",
   "execution_count": null,
   "id": "a2d46ee8-0162-4f15-88ab-e36e5c838737",
   "metadata": {},
   "outputs": [],
   "source": [
    "all_features[all_features['hash'] == '2046bb14d9f63612a6d19d5224727f3607be4e8f8ad13e9efe34620fda2d9d99'].T"
   ]
  },
  {
   "cell_type": "code",
   "execution_count": null,
   "id": "85442e74-46dd-431a-aca3-68b29658a8c3",
   "metadata": {},
   "outputs": [],
   "source": [
    "truth_matrix[truth_matrix['Campaign_Tag'] == 'C0006']"
   ]
  },
  {
   "cell_type": "code",
   "execution_count": null,
   "id": "5482298f-6680-496f-9a10-e3a43ff41980",
   "metadata": {},
   "outputs": [],
   "source": [
    "all_features[all_features['Campaign_Tag'] == 'StarBlizzardJan2024']"
   ]
  },
  {
   "cell_type": "code",
   "execution_count": null,
   "id": "4926a2b4-a797-426a-a779-2af7e51a0294",
   "metadata": {},
   "outputs": [],
   "source": [
    "merg_res = all_features.copy()\n",
    "merg_res['labels'] = y_pred\n"
   ]
  },
  {
   "cell_type": "code",
   "execution_count": null,
   "id": "e2a51b14-5aed-4f94-a103-db7d8523d365",
   "metadata": {},
   "outputs": [],
   "source": [
    "merg_res"
   ]
  }
 ],
 "metadata": {
  "kernelspec": {
   "display_name": "Python 3 (ipykernel)",
   "language": "python",
   "name": "python3"
  },
  "language_info": {
   "codemirror_mode": {
    "name": "ipython",
    "version": 3
   },
   "file_extension": ".py",
   "mimetype": "text/x-python",
   "name": "python",
   "nbconvert_exporter": "python",
   "pygments_lexer": "ipython3",
   "version": "3.10.10"
  }
 },
 "nbformat": 4,
 "nbformat_minor": 5
}
